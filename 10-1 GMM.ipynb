{
 "cells": [
  {
   "cell_type": "code",
   "execution_count": 1,
   "metadata": {},
   "outputs": [],
   "source": [
    "import numpy as np\n",
    "from scipy.special import gamma as gamma_f\n",
    "from scipy.special import psi\n",
    "from scipy.special import loggamma\n",
    "import copy\n",
    "import math\n",
    "import matplotlib.pyplot as plt"
   ]
  },
  {
   "cell_type": "code",
   "execution_count": 2,
   "metadata": {},
   "outputs": [],
   "source": [
    "x = np.loadtxt('GaussianMixtureData20130501.txt')"
   ]
  },
  {
   "cell_type": "code",
   "execution_count": 3,
   "metadata": {},
   "outputs": [],
   "source": [
    "#データ数n\n",
    "N = len(x)\n",
    "#xの次元数D\n",
    "D = len(x[0])\n",
    "#分布数K\n",
    "AllK = 11"
   ]
  },
  {
   "cell_type": "code",
   "execution_count": 4,
   "metadata": {},
   "outputs": [],
   "source": [
    "def next_row(N,K,D,alpha,beta,x,u,nu,V):\n",
    "    nextrow = np.ndarray((N,K),float)\n",
    "    nu_d_sum = np.ndarray((K),float)\n",
    "    nu_det_sum = np.ndarray((K,D),float)\n",
    "    nu_det_sum_sum = np.ndarray((K),float)\n",
    "    for k in range(K):\n",
    "        nu_d_sum[k] = 0\n",
    "        for d in range(D):\n",
    "            nu_d_sum[k] += psi((nu[k] +1 - d)/2) \n",
    "    for n in range(N): \n",
    "        for k in range(K):\n",
    "            nu_det_sum_sum[k] = 0\n",
    "            for d1 in range(D):\n",
    "                nu_det_sum[k][d1] = 0\n",
    "                for d2 in range(D):\n",
    "                    nu_det_sum[k][d1] += (x[n][d2] - u[k][d2]) * V[k][d2][d1]\n",
    "            for d1 in range(D):\n",
    "                nu_det_sum_sum[k] += nu_det_sum[k][d1] *  (x[n][d1] - u[k][d1])\n",
    "            nextrow[n,k] = np.exp(psi(alpha[k]) + 1/2 * (nu_d_sum[k] + np.log(np.linalg.det(V[k])) - D/beta[k] - nu[k] * nu_det_sum_sum[k]))\n",
    "      \n",
    "    return nextrow"
   ]
  },
  {
   "cell_type": "code",
   "execution_count": 5,
   "metadata": {},
   "outputs": [],
   "source": [
    "def next_gamma(K,row):\n",
    "    nextgamma = np.ndarray((N,K),float)\n",
    "    row_sum = np.ndarray((N),float)\n",
    "    for n in range(N):\n",
    "        row_sum[n] = 0\n",
    "        for k in range(K):\n",
    "            row_sum[n] += row[n,k]\n",
    "        for k in range(K):\n",
    "            nextgamma[n,k] = row[n,k] / row_sum[n]\n",
    "    \n",
    "    return nextgamma"
   ]
  },
  {
   "cell_type": "code",
   "execution_count": 6,
   "metadata": {},
   "outputs": [],
   "source": [
    "def next_paras(K,gamma,alpha_0,beta_0,nu_0):\n",
    "    nextalpha = np.ndarray((K),float)\n",
    "    nextbeta = np.ndarray((K),float)\n",
    "    nextnu = np.ndarray((K),float)\n",
    "    eta = np.ndarray((K),float)\n",
    "    for k in range(K):\n",
    "        eta[k] = 0\n",
    "        for n in range(N):\n",
    "            eta[k] += gamma[n,k]\n",
    "        nextalpha[k] = alpha_0 + eta[k]\n",
    "        nextbeta[k] = beta_0 + eta[k]\n",
    "        nextnu[k]  = nu_0  + eta[k]\n",
    "        \n",
    "    return nextalpha,nextbeta,nextnu"
   ]
  },
  {
   "cell_type": "code",
   "execution_count": 7,
   "metadata": {},
   "outputs": [],
   "source": [
    "def next_u(K,gamma,x,beta_0,beta,u_0):\n",
    "    u_sum = np.ndarray((D),float)\n",
    "    nextu = np.ndarray((K,D),float)\n",
    "    for k in range(K):\n",
    "        for d in range(D):\n",
    "            u_sum[d] = 0\n",
    "            for n in range(N):\n",
    "                u_sum[d] += gamma[n,k] * x[n,d]#結果保存したほうが早くなりそう\n",
    "            nextu[k,d] = (beta_0 * u_0[d] + u_sum[d])/ beta[k]\n",
    "    return nextu"
   ]
  },
  {
   "cell_type": "code",
   "execution_count": 8,
   "metadata": {},
   "outputs": [],
   "source": [
    "def next_V(K,x,beta_0,u,u_0,V_0,gamma):\n",
    "    nextV = np.ndarray((K,D,D),float)\n",
    "    V1= np.ndarray((D,D),float)\n",
    "    V2_sum = np.ndarray((D,D),float)\n",
    "    for k in range(K):       \n",
    "        for d1 in range(D):\n",
    "            for d2 in range(D):\n",
    "                V1[d1,d2] = beta_0 * (u[k,d1]-u_0[d1])* (u[k,d2]-u_0[d2])\n",
    "                V2_sum[d1,d2] = 0 #第3項の和\n",
    "                for n in range(N):\n",
    "                    V2_sum[d1,d2] += gamma[n,k] * (x[n,d1]-u[k,d1])* (x[n,d2]-u[k,d2])\n",
    "        nextV[k] = np.linalg.inv(np.linalg.inv(V_0) + V1 + V2_sum)   \n",
    "    return nextV"
   ]
  },
  {
   "cell_type": "code",
   "execution_count": 9,
   "metadata": {},
   "outputs": [],
   "source": [
    "def multi_d_loggamma(D,a):\n",
    "    loggamma_multi = 0 #loggamma関数の和をとる初期値\n",
    "    for d in range(D):\n",
    "        loggamma_multi += loggamma(a - (d)/2)\n",
    "        \n",
    "    return (D*(D-1)/4)*np.log(np.pi)+loggamma_multi"
   ]
  },
  {
   "cell_type": "code",
   "execution_count": 10,
   "metadata": {},
   "outputs": [],
   "source": [
    "def select_mixed_number(K,N,D,gamma,alpha,alpha_0,beta,beta_0,nu,nu_0,V_0,V):\n",
    "    mixed_1 = loggamma(K*alpha_0 + N)- loggamma(K*alpha_0) #第一項\n",
    "    #print(mixed_1)\n",
    "    mixed_2 = 0 #第二項\n",
    "    for n in range(N):\n",
    "        for k in range(K):\n",
    "            if gamma[n,k] == 0: continue\n",
    "            mixed_2 += gamma[n,k] * np.log(gamma[n,k])\n",
    "    #print(mixed_2)\n",
    "    mixed_3 = 0 #第3項\n",
    "    for k in range(K):\n",
    "        mixed_3_1 =  loggamma(alpha_0)+multi_d_loggamma(D,nu_0)-(loggamma(alpha[k])+multi_d_loggamma(D,nu[k]))\n",
    "        mixed_3_2 = (1/2) * (nu_0 * np.log(np.linalg.det(V_0))) - nu[k] * np.log(np.linalg.det(V[k])) + D * (np.log(beta[k]-np.log(beta_0)))\n",
    "        mixed_3 += mixed_3_1 + mixed_3_2\n",
    "    #print(mixed_3)\n",
    "        \n",
    "    return mixed_1 + mixed_2 + mixed_3\n",
    "        "
   ]
  },
  {
   "cell_type": "code",
   "execution_count": 11,
   "metadata": {},
   "outputs": [],
   "source": [
    "def learn_param(K):\n",
    "    #宣言（必要ないかもだけど一応）\n",
    "    row = np.ndarray((N,K),float)\n",
    "    alpha = np.ndarray(K,float)\n",
    "    beta = np.ndarray(K,float)\n",
    "    nu = np.ndarray(K,float)\n",
    "    gamma = np.ndarray((N,K),float)\n",
    "    before_gamma = np.ndarray((N,K),float)\n",
    "    u = np.ndarray((K,D),float)\n",
    "    V = np.ndarray((K,D,D),float)\n",
    "    #初期値と初期化\n",
    "    alpha_0 = D + 1\n",
    "    beta_0 = D + 1\n",
    "    nu_0 = D + 1\n",
    "    u_0 = np.zeros(D)\n",
    "    for n in range(N):\n",
    "        u_0 += x[n]\n",
    "    u_0 = u_0 / N\n",
    "    V_0_cal = np.zeros((D,D)) #V_0計算用\n",
    "    for n in range(N):\n",
    "        for d1 in range(D):\n",
    "            for d2 in range(D):\n",
    "                V_0_cal[d1,d2] += (x[n,d1]- u_0[d1])*(x[n,d2]- u_0[d2])\n",
    "    V_0 = np.linalg.inv(nu_0 * (1/N) * V_0_cal)\n",
    "    \n",
    "    u = np.random.multivariate_normal(u_0, np.linalg.inv(beta_0*nu_0*V_0), K)\n",
    "    for k in range(K):\n",
    "        alpha[k] = alpha_0\n",
    "        beta[k] = beta_0\n",
    "        nu[k] = nu_0\n",
    "        V[k] = copy.deepcopy(V_0)\n",
    "        #収束判定用\n",
    "        before_gamma[k] = -float('inf')\n",
    "    while(1):\n",
    "        row = next_row(N,K,D,alpha,beta,x,u,nu,V)\n",
    "        gamma = next_gamma(K,row)\n",
    "        alpha,beta,nu = next_paras(K,gamma,alpha_0,beta_0,nu_0)\n",
    "        u = next_u(K,gamma,x,beta_0,beta,u_0)\n",
    "        V = next_V(K,x,beta_0,u,u_0,V_0,gamma)\n",
    "        for n in range(N):\n",
    "            for k in range(K):\n",
    "                flag = 0\n",
    "                if(abs(gamma[n][k] - before_gamma[n][k]) > 1e-3):\n",
    "                    flag = 1\n",
    "                    break\n",
    "            if(flag == 1):\n",
    "                break\n",
    "        if(flag == 0):\n",
    "            break\n",
    "        else:\n",
    "            before_gamma = gamma\n",
    "        \n",
    "    return  gamma,alpha,alpha_0,beta,beta_0,nu,nu_0,V_0,V,u"
   ]
  },
  {
   "cell_type": "code",
   "execution_count": 12,
   "metadata": {},
   "outputs": [],
   "source": [
    "def posterior_ave(K,alpha,u,nu,V): #事後平均解計算\n",
    "    post_ave_w = np.ndarray((K),float)\n",
    "    post_ave_mu = np.ndarray((K,D),float)\n",
    "    post_ave_sigma = np.ndarray((K,D,D),float)\n",
    "    alpha_sum = 0\n",
    "    for k in range(K):\n",
    "        alpha_sum += alpha[k] #1との内積計算 = 和\n",
    "    for k in range(K):\n",
    "        post_ave_w[k] = alpha[k]/alpha_sum\n",
    "        post_ave_mu[k] = u[k]\n",
    "        post_ave_sigma[k] = nu[k] * V[k]\n",
    "    return post_ave_w,post_ave_mu,post_ave_sigma"
   ]
  },
  {
   "cell_type": "code",
   "execution_count": 13,
   "metadata": {},
   "outputs": [],
   "source": [
    "#グラフ描画\n",
    "#参考資料\n",
    "# https://qiita.com/shinmura0/items/901593e3d8a5238f8ae4\n",
    "# http://civilyarou.web.fc2.com/WANtaroHP_html5_win/f90_STAT/dir_SREG/TeX_ellipse.pdf\n",
    "def ellipse_drow(mu,sigma):\n",
    "    curve_c = np.zeros((2,201))\n",
    "    \n",
    "    C_c = sigma[0][1]/((np.sqrt(sigma[0][0])*np.sqrt(sigma[1][1])))\n",
    "    p = 1- np.exp(-1/2)\n",
    "    for i in range(201):\n",
    "        r = (-2*(1-C_c**2)*np.log(1-p)/(1-2*C_c*np.sin(i*2*np.pi/200)*np.cos(i*2*np.pi/200)))**0.5\n",
    "        curve_c[0,i] = mu[0] + np.sqrt(sigma[0][0])*r*np.cos(i*2*np.pi/200)\n",
    "        curve_c[1,i] = mu[1] + np.sqrt(sigma[1][1])*r*np.sin(i*2*np.pi/200)\n",
    "    return curve_c"
   ]
  },
  {
   "cell_type": "code",
   "execution_count": 14,
   "metadata": {},
   "outputs": [],
   "source": [
    "#グラフ描画\n",
    "def glaphplot(x,mu,sigma,K):\n",
    "    fig,ax = plt.subplots(figsize=(5,5))\n",
    "    ax.plot(x[:,0],x[:,1],'.')\n",
    "    for k in range(K):\n",
    "        curve_c = ellipse_drow(mu[k],np.linalg.inv(sigma[k]))\n",
    "        ax.plot(curve_c[0],curve_c[1],'.',color = 'red',markersize=0.8)\n",
    "    plt.savefig('tpip10GMM.png')\n",
    "    plt.show()"
   ]
  },
  {
   "cell_type": "code",
   "execution_count": 17,
   "metadata": {
    "scrolled": true
   },
   "outputs": [
    {
     "name": "stdout",
     "output_type": "stream",
     "text": [
      "状態数推定1~10\n",
      "[21121.70731284 19449.61044004 19031.21874315 19074.62466146\n",
      " 19117.0947033  19159.06849969 19200.54807148 19241.75499162\n",
      " 19282.25517915 19322.59720226]\n",
      "最適な状態数は: 3\n",
      "重みw\n",
      " [0.26744884 0.26842724 0.46412393]\n",
      "平均μ\n",
      " [[-38.39189631  17.11648285]\n",
      " [  1.15824831  -0.65686714]\n",
      " [ 39.79711098  -0.13872738]]\n",
      "逆分散共分散\n",
      " [[[ 0.00670816  0.00018879]\n",
      "  [ 0.00018879  0.0010741 ]]\n",
      "\n",
      " [[ 0.00103425 -0.00014024]\n",
      "  [-0.00014024  0.00931572]]\n",
      "\n",
      " [[ 0.01110114 -0.00136437]\n",
      "  [-0.00136437  0.00080731]]]\n"
     ]
    },
    {
     "data": {
      "image/png": "[encoded data removed]",
      "text/plain": [
       "<Figure size 360x360 with 1 Axes>"
      ]
     },
     "metadata": {
      "needs_background": "light"
     },
     "output_type": "display_data"
    }
   ],
   "source": [
    "if __name__ == \"__main__\":\n",
    "    K_array = np.ndarray(AllK-1) #Kの推定数を表示するやつ\n",
    "    for K in range(1,AllK):  \n",
    "        gamma,alpha,alpha_0,beta,beta_0,nu,nu_0,V_0,V,_ = learn_param(K)\n",
    "        K_array[K-1] = select_mixed_number(K,N,D,gamma,alpha,alpha_0,beta,beta_0,nu,nu_0,V_0,V)\n",
    "    print('状態数推定1~10')\n",
    "    print(K_array)\n",
    "    #K_arrayの最大値から最大値をもらう\n",
    "    trueK = np.argmin(K_array) + 1\n",
    "    print('最適な状態数は:',trueK)\n",
    "    #事後平均解を得る\n",
    "    _,alpha,_,_,_,nu,_,_,V,u = learn_param(trueK)\n",
    "    w,mu,sigma = posterior_ave(trueK,alpha,u,nu,V)\n",
    "    print('重みw\\n',w)\n",
    "    print('平均μ\\n',mu)\n",
    "    print('逆分散共分散行列Σ\\n',sigma)\n",
    "    glaphplot(x,mu,sigma,trueK)"
   ]
  },
  {
   "cell_type": "code",
   "execution_count": null,
   "metadata": {},
   "outputs": [],
   "source": []
  }
 ],
 "metadata": {
  "kernelspec": {
   "display_name": "Python 3",
   "language": "python",
   "name": "python3"
  },
  "language_info": {
   "codemirror_mode": {
    "name": "ipython",
    "version": 3
   },
   "file_extension": ".py",
   "mimetype": "text/x-python",
   "name": "python",
   "nbconvert_exporter": "python",
   "pygments_lexer": "ipython3",
   "version": "3.7.4"
  }
 },
 "nbformat": 4,
 "nbformat_minor": 2
}
