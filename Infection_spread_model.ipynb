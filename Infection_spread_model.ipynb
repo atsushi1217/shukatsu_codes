{
 "cells": [
  {
   "cell_type": "code",
   "execution_count": 1,
   "metadata": {
    "scrolled": true
   },
   "outputs": [],
   "source": [
    "import numpy as np\n",
    "import matplotlib.pyplot as plt"
   ]
  },
  {
   "cell_type": "markdown",
   "metadata": {},
   "source": [
    "# 初期値とか\n",
    "\n",
    "days,r0,Dを色々いじって検証"
   ]
  },
  {
   "cell_type": "code",
   "execution_count": 2,
   "metadata": {},
   "outputs": [],
   "source": [
    "days = 300 #開始時から最終日までの日付を表す\n",
    "r0 = 2.5 #基本再生産数\n",
    "D = 10 #感染期間\n",
    "n = 1000 #総人口"
   ]
  },
  {
   "cell_type": "code",
   "execution_count": 3,
   "metadata": {},
   "outputs": [],
   "source": [
    "people = np.zeros((days,3))  #[S:感受性のある人間，I:現在感染している人間,R:免疫を所持している人間]を示す行列people,列の総和 = 1000\n",
    "peopleint = np.zeros((days,3)) # peopleをintで返す行列  "
   ]
  },
  {
   "cell_type": "code",
   "execution_count": 4,
   "metadata": {},
   "outputs": [],
   "source": [
    "def susceptible(n,S,I,r0,D):#感受性のある人の数を更新する関数\n",
    "    NS = S - ((r0/D) * S * I )/ n\n",
    "    return NS"
   ]
  },
  {
   "cell_type": "code",
   "execution_count": 5,
   "metadata": {},
   "outputs": [],
   "source": [
    "def infected(n,S,I,r0,D):#現在の感染者の数を更新する関数\n",
    "    NI = I +  ((r0/D) * S * I)/n - I/D\n",
    "    return NI"
   ]
  },
  {
   "cell_type": "code",
   "execution_count": 6,
   "metadata": {},
   "outputs": [],
   "source": [
    "def recover(I,R,D):#回復した人の数を更新する関数\n",
    "    NR = R + I/D\n",
    "    return NR"
   ]
  },
  {
   "cell_type": "code",
   "execution_count": 7,
   "metadata": {},
   "outputs": [],
   "source": [
    "def graphplot(people , days):# グラフ作成\n",
    "    x = np.arange(150)\n",
    "    y1= people[x,0] \n",
    "    y2= people[x,1]\n",
    "    y3= people[x,2]\n",
    "    \n",
    "    fig = plt.figure()\n",
    "    fig.add_subplot(111)\n",
    "    plt.plot(x, y1, color=\"r\",label = \"susceptible\")\n",
    "    plt.plot(x, y2, color=\"b\",label = \"infected\")\n",
    "    plt.plot(x, y3, color=\"g\",label = \"recover\")\n",
    "    \n",
    "    plt.ylabel(\"population\")\n",
    "    plt.xlabel(\"day\")\n",
    "    plt.legend()\n",
    "    plt.show()"
   ]
  },
  {
   "cell_type": "code",
   "execution_count": 8,
   "metadata": {},
   "outputs": [],
   "source": [
    "def main():\n",
    "    people[0,:] = [999,1,0]\n",
    "    #print(people[0,:])\n",
    "    for i in range (days-1):\n",
    "        people[i+1,0] = susceptible(n,people[i,0],people[i,1],r0,D)\n",
    "        people[i+1,1] = infected(n,people[i,0],people[i,1],r0,D)\n",
    "        people[i+1,2] = recover(people[i,1],people[i,2],D)\n",
    "        #print(people[i+1,:])\n",
    "    \n",
    "    graphplot(people,days)   "
   ]
  },
  {
   "cell_type": "code",
   "execution_count": 9,
   "metadata": {},
   "outputs": [
    {
     "data": {
      "image/png": "[encoded data removed]",
      "text/plain": [
       "<Figure size 432x288 with 1 Axes>"
      ]
     },
     "metadata": {
      "needs_background": "light"
     },
     "output_type": "display_data"
    }
   ],
   "source": [
    "main()"
   ]
  },
  {
   "cell_type": "code",
   "execution_count": null,
   "metadata": {},
   "outputs": [],
   "source": []
  }
 ],
 "metadata": {
  "kernelspec": {
   "display_name": "Python 3",
   "language": "python",
   "name": "python3"
  },
  "language_info": {
   "codemirror_mode": {
    "name": "ipython",
    "version": 3
   },
   "file_extension": ".py",
   "mimetype": "text/x-python",
   "name": "python",
   "nbconvert_exporter": "python",
   "pygments_lexer": "ipython3",
   "version": "3.7.4"
  }
 },
 "nbformat": 4,
 "nbformat_minor": 2
}
